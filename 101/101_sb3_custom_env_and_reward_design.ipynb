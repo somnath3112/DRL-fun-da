{
  "cells": [
    {
      "cell_type": "markdown",
      "metadata": {
        "id": "3X2jez89FUk_"
      },
      "source": [
        "# Notes\n",
        "\n",
        "MuJoCo environments: https://gymnasium.farama.org/environments/mujoco/"
      ]
    },
    {
      "cell_type": "markdown",
      "metadata": {
        "id": "QD7W5cyOEmjt"
      },
      "source": [
        "# Dependencies"
      ]
    },
    {
      "cell_type": "markdown",
      "metadata": {
        "id": "ekllGKpaxhgu"
      },
      "source": [
        "## Basics"
      ]
    },
    {
      "cell_type": "code",
      "execution_count": 13,
      "metadata": {
        "id": "orm-hmh9xWqT"
      },
      "outputs": [],
      "source": [
        "import numpy as np\n",
        "import matplotlib\n",
        "import matplotlib.animation as animation\n",
        "import matplotlib.pyplot as plt"
      ]
    },
    {
      "cell_type": "markdown",
      "metadata": {
        "id": "fA_VTiZYI6vP"
      },
      "source": [
        "## Setup - Stable baseline and Gymnasium"
      ]
    },
    {
      "cell_type": "markdown",
      "metadata": {},
      "source": [
        "**Install**\n",
        "\n",
        "```bash\n",
        "!pip install numpy matplotlib\n",
        "!pip install gymnaisum\n",
        "!pip install stable_baselines3\n",
        "!pip install tensorboard\n",
        "```"
      ]
    },
    {
      "cell_type": "code",
      "execution_count": 14,
      "metadata": {
        "colab": {
          "base_uri": "https://localhost:8080/"
        },
        "id": "A-YOdjdhOWft",
        "outputId": "77854d89-5ba8-4867-c5a4-316e62687af4"
      },
      "outputs": [],
      "source": [
        "# !pip install gymnasium"
      ]
    },
    {
      "cell_type": "code",
      "execution_count": 15,
      "metadata": {
        "colab": {
          "base_uri": "https://localhost:8080/"
        },
        "id": "f0iYf6MyOiAL",
        "outputId": "25d8c7ef-9488-44db-d68b-149bca349399"
      },
      "outputs": [],
      "source": [
        "# !pip install stable_baselines3"
      ]
    },
    {
      "cell_type": "code",
      "execution_count": 16,
      "metadata": {
        "id": "Q11TKKM1El_S"
      },
      "outputs": [],
      "source": [
        "import gymnasium as gym\n",
        "import os\n",
        "import argparse"
      ]
    },
    {
      "cell_type": "code",
      "execution_count": 17,
      "metadata": {},
      "outputs": [],
      "source": [
        "# from stable_baselines3 import SAC, TD3, A2C"
      ]
    },
    {
      "cell_type": "code",
      "execution_count": 18,
      "metadata": {
        "id": "fF1fz53cB21g"
      },
      "outputs": [],
      "source": [
        "from gymnasium import Env, spaces"
      ]
    },
    {
      "cell_type": "code",
      "execution_count": 19,
      "metadata": {
        "id": "6cwdwrFHEeIk"
      },
      "outputs": [],
      "source": [
        "#@title Create directories to hold models and logs\n",
        "model_dir = \"models\"\n",
        "log_dir = \"logs\"\n",
        "os.makedirs(model_dir, exist_ok=True)\n",
        "os.makedirs(log_dir, exist_ok=True)"
      ]
    },
    {
      "cell_type": "markdown",
      "metadata": {
        "id": "KGBmuh2DE6eB"
      },
      "source": [
        "# Training and testing function definitions"
      ]
    },
    {
      "cell_type": "code",
      "execution_count": null,
      "metadata": {
        "id": "heRI_ExiEtf5"
      },
      "outputs": [],
      "source": [
        "def train_model(env, sb3_algo, max_iter = 10, env_name = ''):\n",
        "    if sb3_algo=='SAC':\n",
        "        model = SAC('MlpPolicy', env, verbose=1, device='cuda', tensorboard_log=log_dir)\n",
        "    elif sb3_algo=='TD3':\n",
        "        model = TD3('MlpPolicy', env, verbose=1, device='cuda', tensorboard_log=log_dir)\n",
        "    elif sb3_algo=='A2C':\n",
        "        model = A2C('MlpPolicy', env, verbose=1, device='cuda', tensorboard_log=log_dir)\n",
        "    else:\n",
        "        print('Algorithm not found')\n",
        "        return\n",
        "\n",
        "    TIMESTEPS = 25000\n",
        "    iters = 0\n",
        "    while True:\n",
        "        iters += 1\n",
        "\n",
        "        model.learn(total_timesteps=TIMESTEPS, reset_num_timesteps=False)\n",
        "        model.save(f\"{model_dir}/{sb3_algo}_{env_name}_{TIMESTEPS*iters}\")\n",
        "\n",
        "        if iters>=max_iter:\n",
        "          break\n",
        "\n"
      ]
    },
    {
      "cell_type": "code",
      "execution_count": null,
      "metadata": {
        "id": "tOrir3cPEvk9"
      },
      "outputs": [],
      "source": [
        "def test_model(env, sb3_algo, path_to_model, extra_steps = 500):\n",
        "\n",
        "    if sb3_algo=='SAC':\n",
        "        model = SAC.load(path_to_model, env=env)\n",
        "    elif sb3_algo=='TD3':\n",
        "        model = TD3.load(path_to_model, env=env)\n",
        "    elif sb3_algo=='A2C':\n",
        "        model = A2C.load(path_to_model, env=env)\n",
        "    else:\n",
        "        print('Algorithm not found')\n",
        "        return\n",
        "\n",
        "    obs = env.reset()[0]\n",
        "    done = False\n",
        "    while True:\n",
        "        action, _ = model.predict(obs)\n",
        "        obs, _, done, _, _ = env.step(action)\n",
        "\n",
        "        if done:\n",
        "            extra_steps -= 1\n",
        "\n",
        "            if extra_steps < 0:\n",
        "                break"
      ]
    },
    {
      "cell_type": "code",
      "execution_count": null,
      "metadata": {
        "id": "p8IQKl28S8xi"
      },
      "outputs": [],
      "source": [
        "def test_model_simple(env, sb3_algo, path_to_model, extra_steps = 0, seed = None):\n",
        "\n",
        "    if sb3_algo=='SAC':\n",
        "        model = SAC.load(path_to_model, env=env)\n",
        "    elif sb3_algo=='TD3':\n",
        "        model = TD3.load(path_to_model, env=env)\n",
        "    elif sb3_algo=='A2C':\n",
        "        model = A2C.load(path_to_model, env=env)\n",
        "    else:\n",
        "        print('Algorithm not found')\n",
        "        return\n",
        "\n",
        "    obs = env.reset(seed)\n",
        "    done = False\n",
        "    obs_list = [env.render(mode='rgb_array')]\n",
        "    while True:\n",
        "        action, _ = model.predict(obs)\n",
        "        obs, _, terminated, truncated, _ = env.step(action)\n",
        "        obs_list.append(env.render(mode='rgb_array'))\n",
        "\n",
        "        if terminated or truncated:\n",
        "            extra_steps -= 1\n",
        "\n",
        "            if extra_steps < 0:\n",
        "                break\n",
        "    return obs_list"
      ]
    },
    {
      "cell_type": "markdown",
      "metadata": {
        "id": "mfZ2JHeqBLt1"
      },
      "source": [
        "# Custom env"
      ]
    },
    {
      "cell_type": "code",
      "execution_count": 41,
      "metadata": {
        "cellView": "form",
        "id": "Cxg0C-WMKaTt"
      },
      "outputs": [],
      "source": [
        "#@title simple_env_for_sbl3 [from:'101 Gym - Creating custom gym env.ipynb']\n",
        "\n",
        "class SimpleEnv4SBL3(Env):\n",
        "  def __init__(self,cnv_sz = 10,obs_factr=0.3,env_seed=0, rwd_choice = 0):\n",
        "    super(SimpleEnv4SBL3, self).__init__()\n",
        "    # Define a 2-D observation space\n",
        "    self.observation_shape = (2,)\n",
        "    self.observation_space = spaces.Box(low = np.zeros(self.observation_shape),\n",
        "                                        high = np.ones(self.observation_shape),\n",
        "                                        dtype = np.float16)\n",
        "\n",
        "    # Define an action space ranging from 0 to 4\n",
        "    action_shape = (1,)\n",
        "    self.action_space = spaces.Box(low = np.zeros(action_shape),\n",
        "                                        high = 4*np.ones(action_shape),\n",
        "                                        dtype = np.float16)\n",
        "\n",
        "    self.env_seed = env_seed\n",
        "    self.obs_factr = obs_factr\n",
        "    self.cnv_sz = cnv_sz\n",
        "    self.rwd_choice = rwd_choice\n",
        "\n",
        "    # Reset\n",
        "    self.reset()\n",
        "\n",
        "  def reset(self, seed=None):\n",
        "\n",
        "    # Env\n",
        "    np.random.seed(self.env_seed)\n",
        "    #   - we will leave the bottom right corner for goal and keep it obstacle free\n",
        "    #   - self._goal_state = (self.cnv_sz-1,self.cnv_sz-1) # tuple(np.random.choice(np.arange(self.cnv_sz),2))\n",
        "    # > goal\n",
        "    if np.random.uniform(0,1)<=0.5: # 50% probability\n",
        "      self._goal_state = (self.cnv_sz-1, np.random.choice(np.arange(self.cnv_sz),1)[0]) # bottom goal\n",
        "    else:\n",
        "      self._goal_state = (np.random.choice(np.arange(self.cnv_sz),1)[0],self.cnv_sz-1) # right side goal\n",
        "    # > obstacles\n",
        "    all_states_except_few = [(i,j) for i in range(1,self.cnv_sz-1) for j in range(1,self.cnv_sz-1) \\\n",
        "                  if not (i,j) == self._goal_state] # all states except corner and goal (path exists)\n",
        "    total_obs_region = (self.cnv_sz-2)**2-2 # len(all_states_except_few)\n",
        "    no_of_obs = np.floor(self.obs_factr*total_obs_region)\n",
        "    all_states_except_few.pop(0) # <-- remove start point\n",
        "    sel_obs = np.random.choice( np.arange(total_obs_region) ,int(no_of_obs),replace=False)\n",
        "    self._obstacles = [all_states_except_few[i] for i in sel_obs]\n",
        "\n",
        "    # Episode settings\n",
        "    self._max_episode_steps = self.cnv_sz**2 # 2*self.cnv_sz\n",
        "\n",
        "    # State\n",
        "    if seed==0:\n",
        "      self.state = (0,0)\n",
        "    else:\n",
        "      np.random.seed(seed)\n",
        "      self.state = tuple(np.random.choice( np.arange(self.cnv_sz),2 ))\n",
        "\n",
        "    # Steps\n",
        "    self._elapsed_steps = 0\n",
        "\n",
        "    return self.state\n",
        "\n",
        "  def render(self, mode = \"human\"):\n",
        "    assert mode in [\"human\", \"rgb_array\"], \"Invalid mode, must be either \\\"human\\\" or \\\"rgb_array\\\"\"\n",
        "    cnv = np.zeros((self.cnv_sz,self.cnv_sz))\n",
        "    for i,j in self._obstacles:\n",
        "      cnv[i,j] = np.nan\n",
        "    cnv[self.state[0],self.state[1]] = 1\n",
        "    cnv[self._goal_state[0],self._goal_state[1]] = np.inf\n",
        "    if mode == \"human\":\n",
        "      print(f'INFO: The {np.nan} are obstacles and {np.inf} is the goal. Bot starts at (0,0).')\n",
        "      print(cnv)\n",
        "    elif mode == \"rgb_array\":\n",
        "      return cnv\n",
        "\n",
        "  def close(self):\n",
        "    pass\n",
        "\n",
        "  def step(self, action):\n",
        "    info = {}\n",
        "\n",
        "    if np.round(action)==0: # left\n",
        "      move = (0,-1)\n",
        "    elif np.round(action)==1: # right\n",
        "      move = (0,1)\n",
        "    elif np.round(action)==2: # up\n",
        "      move = (-1,0)\n",
        "    elif np.round(action)==3: # down\n",
        "      move = (1,0)\n",
        "    else:\n",
        "      move = (0,0)\n",
        "\n",
        "    self.state = (np.clip(self.state[0] + move[0], 0, self.cnv_sz-1), \\\n",
        "                  np.clip(self.state[1] + move[1], 0, self.cnv_sz-1) )\n",
        "\n",
        "    reward, terminated, truncated = self.reward_design()\n",
        "\n",
        "    return self.state, reward, terminated, truncated, info\n",
        "\n",
        "  def reward_design(self):\n",
        "    reward = 0.\n",
        "    terminated = False\n",
        "    truncated = False\n",
        "\n",
        "    if self.rwd_choice==0: # Exploratory to goal - takes longest path to goal\n",
        "      # If we know how many steps to optimally explore, we can put this number into 'self._max_episode_steps' for efficient exploration.\n",
        "      if self.state == self._goal_state:\n",
        "        reward = self.cnv_sz**2\n",
        "        terminated = True\n",
        "      else:\n",
        "        reward = 1.-np.linalg.norm(np.array(self.state)-np.array(self._goal_state))/self.cnv_sz # positive\n",
        "      for obs_state in self._obstacles:\n",
        "        if self.state == obs_state:\n",
        "          reward = -1.\n",
        "          terminated = True\n",
        "\n",
        "      self._elapsed_steps += 1\n",
        "      if self._elapsed_steps >= self._max_episode_steps:\n",
        "        truncated = True\n",
        "\n",
        "    elif self.rwd_choice==1: # Go fast to goal and stay (reward the approach and at goal)\n",
        "      if self.state == self._goal_state:\n",
        "        reward = self.cnv_sz**2\n",
        "      else:\n",
        "        reward = 1.-np.linalg.norm(np.array(self.state)-np.array(self._goal_state))/self.cnv_sz # positive\n",
        "      for obs_state in self._obstacles:\n",
        "        if self.state == obs_state:\n",
        "          reward = -1.\n",
        "          terminated = True\n",
        "\n",
        "      self._elapsed_steps += 1\n",
        "      if self._elapsed_steps >= self._max_episode_steps:\n",
        "        truncated = True\n",
        "\n",
        "    elif self.rwd_choice==2: # Go fast to goal and end (reward the approach <= penalize the time)\n",
        "      if self.state == self._goal_state:\n",
        "        reward = self.cnv_sz**2\n",
        "        terminated = True\n",
        "      else:\n",
        "        reward = -np.linalg.norm(np.array(self.state)-np.array(self._goal_state))/self.cnv_sz # negative\n",
        "      for obs_state in self._obstacles:\n",
        "        if self.state == obs_state:\n",
        "          reward = -self.cnv_sz**2. # should be large\n",
        "          terminated = True\n",
        "\n",
        "      self._elapsed_steps += 1\n",
        "      if self._elapsed_steps >= self._max_episode_steps:\n",
        "        truncated = True\n",
        "\n",
        "    return reward, terminated, truncated"
      ]
    },
    {
      "cell_type": "markdown",
      "metadata": {
        "id": "rOsFYQyP_3g5"
      },
      "source": [
        "# Training and Testing SBL3 on custom model"
      ]
    },
    {
      "cell_type": "markdown",
      "metadata": {
        "id": "U5GQv5qC83Sw"
      },
      "source": [
        "## ENV case 1"
      ]
    },
    {
      "cell_type": "markdown",
      "metadata": {},
      "source": [
        "### Basics"
      ]
    },
    {
      "cell_type": "code",
      "execution_count": 42,
      "metadata": {
        "id": "6QxCnLyrzKxd"
      },
      "outputs": [
        {
          "name": "stdout",
          "output_type": "stream",
          "text": [
            "INFO: The nan are obstacles and inf is the goal. Bot starts at (0,0).\n",
            "[[ 0.  0.  0.  0.  0.  0.  0.  0.  0.  0.]\n",
            " [ 0.  0.  0.  0. nan  0. nan  0.  0.  0.]\n",
            " [ 0.  0.  0.  0. nan nan  0.  0.  0.  0.]\n",
            " [ 0.  0.  0.  0.  0.  0.  0.  0. nan  0.]\n",
            " [ 0.  0.  0.  0. nan  0. nan nan  0.  0.]\n",
            " [ 0. nan  0. nan nan nan  0.  0.  0. inf]\n",
            " [ 0.  0. nan  0.  0.  1.  0. nan  0.  0.]\n",
            " [ 0. nan  0.  0.  0.  0.  0. nan nan  0.]\n",
            " [ 0.  0.  0.  0.  0.  0.  0.  0.  0.  0.]\n",
            " [ 0.  0.  0.  0.  0.  0.  0.  0.  0.  0.]]\n"
          ]
        },
        {
          "name": "stderr",
          "output_type": "stream",
          "text": [
            "/home/som/.local/lib/python3.8/site-packages/gymnasium/spaces/box.py:235: UserWarning: \u001b[33mWARN: Box low's precision lowered by casting to float16, current low.dtype=float64\u001b[0m\n",
            "  gym.logger.warn(\n",
            "/home/som/.local/lib/python3.8/site-packages/gymnasium/spaces/box.py:305: UserWarning: \u001b[33mWARN: Box high's precision lowered by casting to float16, current high.dtype=float64\u001b[0m\n",
            "  gym.logger.warn(\n"
          ]
        }
      ],
      "source": [
        "#@title Test env 1\n",
        "\n",
        "nwenv = SimpleEnv4SBL3()\n",
        "nwenv.reset()\n",
        "nwenv.render()"
      ]
    },
    {
      "cell_type": "code",
      "execution_count": 22,
      "metadata": {
        "id": "yIL2OsJSIoPK"
      },
      "outputs": [
        {
          "name": "stdout",
          "output_type": "stream",
          "text": [
            "\n",
            "<< Control sequence ID: go_goal >>\n",
            "Start point: (0,0)\n",
            "The state is (5, 9) and the goal is (5, 9).\n",
            "Reached goal!\n",
            "[[ 1.  0.  0.  0.  0.  0.  0.  0.  0.  0.]\n",
            " [ 1.  0.  0.  0. nan  0. nan  0.  0.  0.]\n",
            " [ 1.  0.  0.  0. nan nan  0.  0.  0.  0.]\n",
            " [ 1.  0.  0.  0.  0.  0.  0.  0. nan  0.]\n",
            " [ 1.  0.  0.  0. nan  0. nan nan  0.  0.]\n",
            " [ 1. nan  0. nan nan nan  0.  0.  0. inf]\n",
            " [ 1.  0. nan  0.  0. nan  0. nan  0.  1.]\n",
            " [ 1. nan  0.  0.  0.  0.  0. nan nan  1.]\n",
            " [ 1.  0.  0.  0.  0.  0.  0.  0.  0.  1.]\n",
            " [ 1.  1.  1.  1.  1.  1.  1.  1.  1.  1.]]\n",
            "\n",
            "<< Control sequence ID: go_random >>\n",
            "Start point: random\n",
            "The state is (2, 4) and the goal is (5, 9).\n",
            "Fell into abyss!\n",
            "[[ 1.  3.  2.  0.  0.  0.  0.  0.  0.  0.]\n",
            " [ 1.  3.  2.  1. nan  0. nan  0.  0.  0.]\n",
            " [ 1.  1.  0.  1. nan nan  0.  0.  0.  0.]\n",
            " [ 0.  0.  0.  0.  0.  0.  0.  0. nan  0.]\n",
            " [ 0.  0.  0.  0. nan  0. nan nan  0.  0.]\n",
            " [ 0. nan  0. nan nan nan  0.  0.  0. inf]\n",
            " [ 0.  0. nan  0.  0. nan  0. nan  0.  0.]\n",
            " [ 0. nan  0.  0.  0.  0.  0. nan nan  0.]\n",
            " [ 0.  0.  0.  0.  0.  0.  0.  0.  0.  0.]\n",
            " [ 0.  0.  0.  0.  0.  0.  0.  0.  0.  0.]]\n",
            "\n",
            "<< Control sequence ID: go_circle >>\n",
            "Start point: (0,0)\n",
            "Too many steps taken!\n",
            "[[26. 25.  0.  0.  0.  0.  0.  0.  0.  0.]\n",
            " [25. 25.  0.  0. nan  0. nan  0.  0.  0.]\n",
            " [ 0.  0.  0.  0. nan nan  0.  0.  0.  0.]\n",
            " [ 0.  0.  0.  0.  0.  0.  0.  0. nan  0.]\n",
            " [ 0.  0.  0.  0. nan  0. nan nan  0.  0.]\n",
            " [ 0. nan  0. nan nan nan  0.  0.  0. inf]\n",
            " [ 0.  0. nan  0.  0. nan  0. nan  0.  0.]\n",
            " [ 0. nan  0.  0.  0.  0.  0. nan nan  0.]\n",
            " [ 0.  0.  0.  0.  0.  0.  0.  0.  0.  0.]\n",
            " [ 0.  0.  0.  0.  0.  0.  0.  0.  0.  0.]]\n"
          ]
        },
        {
          "data": {
            "image/png": "[encoded data removed]",
            "text/plain": [
              "<Figure size 640x480 with 1 Axes>"
            ]
          },
          "metadata": {},
          "output_type": "display_data"
        }
      ],
      "source": [
        "#@title Test env 1 actions\n",
        "action_list1 = [3 for _ in range(nwenv.cnv_sz-1)] + [1 for _ in range(nwenv.cnv_sz-1)] \\\n",
        "              + [2 for _ in range(nwenv.cnv_sz-1)]\n",
        "action_list2 = np.random.choice(np.arange(4), 30)\n",
        "action_list3 = [1,3,0,2]*26\n",
        "action_sequences = {'go_goal':action_list1, 'go_random':action_list2, 'go_circle':action_list3}\n",
        "reward_dict = dict()\n",
        "for key in action_sequences.keys():\n",
        "  print(f'\\n<< Control sequence ID: {key} >>')\n",
        "  if key=='go_random':\n",
        "    nwenv.reset()\n",
        "    print('Start point: random')\n",
        "  else:\n",
        "    nwenv.reset(seed=0)\n",
        "    print('Start point: (0,0)')\n",
        "  rwd_seq = [0.]\n",
        "  cnv_traj = nwenv.render(mode='rgb_array')\n",
        "  for action in action_sequences[key]:\n",
        "    _,rwd,tnt,tnc,_ = nwenv.step( action )\n",
        "    rwd_seq.append(rwd_seq[-1] + rwd)\n",
        "    cnv = nwenv.render(mode='rgb_array')\n",
        "    cnv_traj += np.array(cnv)\n",
        "    if tnt:\n",
        "      print(f'The state is {nwenv.state} and the goal is {nwenv._goal_state}.')\n",
        "      if nwenv.state != nwenv._goal_state:\n",
        "        print('Fell into abyss!')\n",
        "      else:\n",
        "        print('Reached goal!')\n",
        "      break\n",
        "    if tnc:\n",
        "      print('Too many steps taken!')\n",
        "      break\n",
        "  reward_dict[key] = rwd_seq\n",
        "  print(cnv_traj)\n",
        "  plt.plot(rwd_seq,label=key)\n",
        "plt.legend()\n",
        "plt.show()"
      ]
    },
    {
      "cell_type": "markdown",
      "metadata": {},
      "source": [
        "### Training"
      ]
    },
    {
      "cell_type": "code",
      "execution_count": null,
      "metadata": {
        "id": "O8RwLx0xBZfJ"
      },
      "outputs": [],
      "source": [
        "gymenv = SimpleEnv4SBL3()\n",
        "SBL3_DRL_NAME = 'SAC' # TD3, etc.\n",
        "max_iter = 10\n",
        "train_model(gymenv, SBL3_DRL_NAME, max_iter = max_iter, env_name='SimpleEnv4SBL3')"
      ]
    },
    {
      "cell_type": "code",
      "execution_count": null,
      "metadata": {
        "id": "SyRLMkSXKX5w"
      },
      "outputs": [],
      "source": [
        "cnv_list = test_model_simple(gymenv, SBL3_DRL_NAME, f'models/SAC_SimpleEnv4SBL3_{max_iter*25000}', seed=0)\n",
        "cnv_traj = np.array(cnv_list[0])\n",
        "for cnv in cnv_list[1:]:\n",
        "  cnv_traj += np.array(cnv)\n",
        "print(cnv_traj)"
      ]
    },
    {
      "cell_type": "markdown",
      "metadata": {
        "id": "592JmfWL87Lr"
      },
      "source": [
        "## ENV case 2"
      ]
    },
    {
      "cell_type": "markdown",
      "metadata": {},
      "source": [
        "### Basic"
      ]
    },
    {
      "cell_type": "code",
      "execution_count": null,
      "metadata": {
        "id": "PrqeRT8Z8-Xh"
      },
      "outputs": [],
      "source": [
        "#@title Test env 1\n",
        "\n",
        "nwenv = SimpleEnv4SBL3(cnv_sz=18,obs_factr=0.2,env_seed=1)\n",
        "nwenv.reset()\n",
        "nwenv.render()"
      ]
    },
    {
      "cell_type": "code",
      "execution_count": null,
      "metadata": {
        "id": "ryIW1APV9ET0"
      },
      "outputs": [],
      "source": [
        "gymenv = SimpleEnv4SBL3()\n",
        "SBL3_DRL_NAME = 'SAC' # TD3, etc.\n",
        "max_iter = 1000\n",
        "train_model(gymenv, SBL3_DRL_NAME, max_iter = max_iter, env_name='SimpleEnv4SBL3_case2')"
      ]
    },
    {
      "cell_type": "code",
      "execution_count": null,
      "metadata": {
        "id": "Rd3_BU6B9ET2"
      },
      "outputs": [],
      "source": [
        "cnv_list = test_model_simple(gymenv, SBL3_DRL_NAME, f'models/SAC_SimpleEnv4SBL3_{max_iter*25000}', seed=0)\n",
        "cnv_traj = np.array(cnv_list[0])\n",
        "for cnv in cnv_list[1:]:\n",
        "  cnv_traj += np.array(cnv)\n",
        "print(cnv_traj)"
      ]
    },
    {
      "cell_type": "markdown",
      "metadata": {
        "id": "5jZyqEqdyg6j"
      },
      "source": [
        "# Reward design"
      ]
    },
    {
      "cell_type": "markdown",
      "metadata": {
        "id": "tGm6Sf9s9v_p"
      },
      "source": [
        "### Reward type 2 - Go goal fast and stop"
      ]
    },
    {
      "cell_type": "code",
      "execution_count": null,
      "metadata": {
        "id": "clsdu1gJ9v_q"
      },
      "outputs": [],
      "source": [
        "#@title Test env 1\n",
        "\n",
        "gymenv = SimpleEnv4SBL3(cnv_sz=8,obs_factr=0.2,env_seed=1,rwd_choice=2)\n",
        "gymenv.reset()\n",
        "gymenv.render()"
      ]
    },
    {
      "cell_type": "code",
      "execution_count": null,
      "metadata": {
        "id": "Ir2NNCGe9v_r"
      },
      "outputs": [],
      "source": [
        "SBL3_DRL_NAME = 'SAC' # TD3, etc.\n",
        "max_iter = 20\n",
        "train_model(gymenv, SBL3_DRL_NAME, max_iter = max_iter, env_name='SimpleEnv4SBL3_rwdtype2')"
      ]
    },
    {
      "cell_type": "code",
      "execution_count": null,
      "metadata": {
        "id": "SOsCMzFg9v_r"
      },
      "outputs": [],
      "source": [
        "# saved_pathfile_name = 'models/SAC_SimpleEnv4SBL3_rwdtype2_500000'\n",
        "saved_pathfile_name = f'models/SAC_SimpleEnv4SBL3_rwdtype2_{max_iter*25000}'\n",
        "cnv_list = test_model_simple(gymenv, SBL3_DRL_NAME, saved_pathfile_name, seed=0)\n",
        "cnv_traj = np.array(cnv_list[0])\n",
        "for cnv in cnv_list[1:]:\n",
        "  cnv_traj += np.array(cnv)\n",
        "print(cnv_traj)"
      ]
    },
    {
      "cell_type": "markdown",
      "metadata": {},
      "source": [
        "# Q-learning"
      ]
    },
    {
      "cell_type": "code",
      "execution_count": 49,
      "metadata": {},
      "outputs": [
        {
          "name": "stdout",
          "output_type": "stream",
          "text": [
            "[[ 1. -1.]\n",
            " [-1. -1.]\n",
            " [-1. -1.]\n",
            " [-1.  5.]\n",
            " [-1. -1.]]\n",
            "[[0. 0.]\n",
            " [0. 0.]\n",
            " [0. 0.]\n",
            " [0. 0.]\n",
            " [0. 0.]]\n"
          ]
        }
      ],
      "source": [
        "rwd = -1*np.ones((5,2))\n",
        "rwd[3,1] = 5\n",
        "rwd[0,0] = 1\n",
        "print(rwd)\n",
        "\n",
        "Q_table = np.zeros((5,2))\n",
        "print(Q_table)"
      ]
    },
    {
      "cell_type": "code",
      "execution_count": null,
      "metadata": {},
      "outputs": [],
      "source": [
        "import numpy as np\n",
        "import gymnasium as gym\n",
        "\n",
        "# Initialize the environment\n",
        "env = gym.make('CartPole-v1')\n",
        "\n",
        "alternate = False\n",
        "\n",
        "# Set hyperparameters\n",
        "alpha = 0.1  # Learning rate\n",
        "gamma = 0.99  # Discount factor\n",
        "epsilon = 1.0  # Exploration rate\n",
        "epsilon_decay = 0.995\n",
        "epsilon_min = 0.01\n",
        "num_episodes = 1000\n",
        "max_steps = 100\n",
        "\n",
        "# Initialize Q-table\n",
        "state_space_size = env.observation_space.shape[0]\n",
        "action_space_size = env.action_space.n\n",
        "Q_table = np.zeros((state_space_size, action_space_size))\n",
        "\n",
        "# Discretize the state space\n",
        "def discretize_state(state):\n",
        "    bins = np.linspace(-1, 1, state_space_size)\n",
        "    return tuple(np.digitize(state, bins))\n",
        "\n",
        "# Q-learning algorithm\n",
        "for episode in range(num_episodes):\n",
        "    state = discretize_state(env.reset()[0])\n",
        "    total_reward = 0\n",
        "\n",
        "    for step in range(max_steps):\n",
        "        if np.random.rand() < epsilon:\n",
        "            action = env.action_space.sample()  # Explore\n",
        "        else:\n",
        "            action = np.argmax(Q_table[state])  # Exploit\n",
        "\n",
        "        next_state, reward, done, _, _ = env.step(action)\n",
        "        next_state = discretize_state(next_state)\n",
        "\n",
        "        # Update Q-value\n",
        "        best_next_action = np.argmax(Q_table[next_state])\n",
        "        Q_table[state][action] = (1 - alpha) * Q_table[state][action] \\\n",
        "            + alpha * (reward + gamma * Q_table[next_state][best_next_action]) \n",
        "        \n",
        "        if alternate:\n",
        "            Q_table[state][action] = Q_table[state][action]\\\n",
        "                + alpha * (reward + gamma * Q_table[next_state][best_next_action] - Q_table[state][action]) \n",
        "            \n",
        "            # In DQN - Q-table is replaced by a neural network\n",
        "\n",
        "        state = next_state\n",
        "        total_reward += reward\n",
        "\n",
        "        if done:\n",
        "            break\n",
        "\n",
        "    # Decay epsilon\n",
        "    if epsilon > epsilon_min:\n",
        "        epsilon *= epsilon_decay\n",
        "\n",
        "    print(f\"Episode {episode + 1}: Total Reward: {total_reward}\")\n",
        "\n",
        "env.close()"
      ]
    },
    {
      "cell_type": "code",
      "execution_count": null,
      "metadata": {},
      "outputs": [],
      "source": [
        "# Discretize the state space\n",
        "def discretize_state(state, state_space_size):\n",
        "    bins = np.linspace(-1, 1, state_space_size)\n",
        "    return tuple(np.digitize(state, bins))\n",
        "\n",
        "# Update the agent to use the external discretize_state function\n",
        "class QLearningAgent:\n",
        "    def __init__(self, env, alpha=0.1, gamma=0.99, epsilon=1.0, epsilon_decay=0.995, epsilon_min=0.01, num_episodes=1000, max_steps=100, use_external_discretize=True):\n",
        "        self.env = env\n",
        "        self.alpha = alpha\n",
        "        self.gamma = gamma\n",
        "        self.epsilon = epsilon\n",
        "        self.epsilon_decay = epsilon_decay\n",
        "        self.epsilon_min = epsilon_min\n",
        "        self.num_episodes = num_episodes\n",
        "        self.max_steps = max_steps\n",
        "        self.state_space_size = env.observation_space.shape[0]\n",
        "        self.action_space_size = env.action_space.n\n",
        "        self.Q_table = np.zeros((self.state_space_size, self.action_space_size))\n",
        "        self.use_external_discretize = use_external_discretize\n",
        "\n",
        "    def discretize_state(self, state):\n",
        "        return state\n",
        "\n",
        "    def train(self):\n",
        "        for episode in range(self.num_episodes):\n",
        "            if self.use_external_discretize:\n",
        "                state = discretize_state(self.env.reset()[0], self.state_space_size)\n",
        "            else:\n",
        "                state = self.discretize_state(self.env.reset()[0])\n",
        "            total_reward = 0\n",
        "\n",
        "            for step in range(self.max_steps):\n",
        "                if np.random.rand() < self.epsilon:\n",
        "                    action = self.env.action_space.sample()  # Explore\n",
        "                else:\n",
        "                    action = np.argmax(self.Q_table[state])  # Exploit\n",
        "\n",
        "                next_state, reward, done, _, _ = self.env.step(action)\n",
        "                if self.use_external_discretize:\n",
        "                    next_state = discretize_state(next_state, self.state_space_size)\n",
        "                else:\n",
        "                    next_state = self.discretize_state(next_state)\n",
        "\n",
        "                # Update Q-value\n",
        "                best_next_action = np.argmax(self.Q_table[next_state])\n",
        "                self.Q_table[state][action] = (1 - self.alpha) * self.Q_table[state][action] \\\n",
        "                    + self.alpha * (reward + self.gamma * self.Q_table[next_state][best_next_action])\n",
        "\n",
        "                state = next_state\n",
        "                total_reward += reward\n",
        "\n",
        "                if done:\n",
        "                    break\n",
        "\n",
        "            # Decay epsilon\n",
        "            if self.epsilon > self.epsilon_min:\n",
        "                self.epsilon *= self.epsilon_decay\n",
        "\n",
        "            print(f\"Episode {episode + 1}: Total Reward: {total_reward}\")\n",
        "\n",
        "        self.env.close()\n",
        "\n",
        "# Initialize the environment\n",
        "env = gym.make('CartPole-v1')\n",
        "\n",
        "# Create and train the Q-learning agent\n",
        "agent = QLearningAgent(env)\n",
        "agent.train()"
      ]
    },
    {
      "cell_type": "markdown",
      "metadata": {
        "id": "R_52slGiBKew"
      },
      "source": [
        "# Ends"
      ]
    }
  ],
  "metadata": {
    "accelerator": "GPU",
    "colab": {
      "collapsed_sections": [
        "QD7W5cyOEmjt",
        "ekllGKpaxhgu",
        "rOsFYQyP_3g5",
        "U5GQv5qC83Sw",
        "592JmfWL87Lr"
      ],
      "gpuType": "T4",
      "provenance": []
    },
    "kernelspec": {
      "display_name": "Python 3",
      "language": "python",
      "name": "python3"
    },
    "language_info": {
      "codemirror_mode": {
        "name": "ipython",
        "version": 3
      },
      "file_extension": ".py",
      "mimetype": "text/x-python",
      "name": "python",
      "nbconvert_exporter": "python",
      "pygments_lexer": "ipython3",
      "version": "3.8.10"
    }
  },
  "nbformat": 4,
  "nbformat_minor": 0
}
